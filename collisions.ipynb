{
 "cells": [
  {
   "cell_type": "markdown",
   "metadata": {},
   "source": [
    "### Import"
   ]
  },
  {
   "cell_type": "code",
   "execution_count": 1,
   "metadata": {},
   "outputs": [],
   "source": [
    "# import traci\n",
    "import os, sys\n",
    "#! default MacOS path of sumo tools\n",
    "sys.path.append(os.path.join(\"/usr\", \"local\", \"opt\", \"sumo\", \"share\", \"sumo\", \"tools\"))\n",
    "# choose GUI or non GUI version\n",
    "sumo_binary = \"/usr/local/Cellar/sumo/1.15.0/bin/sumo\"\n",
    "#sumo_gui_binary = \"/usr/local/Cellar/sumo/1.15.0/bin/sumo-gui\"\n",
    "#sumo_cmd = [sumo_binary, \"-n\", \"/Users/jost/Workspace/traffic-simulation/xml/scenario1/grid.net.xml\"]\n",
    "sumo_cmd = [sumo_binary, \"--start\", \"-c\", \"/Users/jost/Desktop/Magdeburgv2.sumocfg\"]\n",
    "import traci\n",
    "from bs4 import BeautifulSoup\n",
    "import numpy as np\n",
    "import itertools\n",
    "import warnings\n",
    "import re"
   ]
  },
  {
   "cell_type": "markdown",
   "metadata": {},
   "source": [
    "### Start SUMO / TRACI"
   ]
  },
  {
   "cell_type": "code",
   "execution_count": 2,
   "metadata": {},
   "outputs": [
    {
     "name": "stdout",
     "output_type": "stream",
     "text": [
      " Retrying in 1 seconds\n"
     ]
    },
    {
     "name": "stderr",
     "output_type": "stream",
     "text": [
      "Warning: Could not set locale to ''.\n"
     ]
    },
    {
     "name": "stdout",
     "output_type": "stream",
     "text": [
      "***Starting server on port 57946 ***\n",
      "Loading net-file from '/Users/jost/Desktop/../2022-10-20-17-02-51/osm.net.xml' ... done (2956ms).\n"
     ]
    },
    {
     "name": "stderr",
     "output_type": "stream",
     "text": [
      "Warning: At actuated tlLogic '34916073', linkIndex 14 has no controlling detector.\n",
      "Warning: At actuated tlLogic '34916073', linkIndex 15 has no controlling detector.\n",
      "Warning: At actuated tlLogic '34916073', linkIndex 16 has no controlling detector.\n",
      "Warning: At actuated tlLogic '34918325', linkIndex 2 has no controlling detector.\n",
      "Warning: At actuated tlLogic '34918325', linkIndex 3 has no controlling detector.\n",
      "Warning: At actuated tlLogic '34918325', linkIndex 4 has no controlling detector.\n",
      "Warning: At actuated tlLogic '76515215', linkIndex 2 has no controlling detector.\n",
      "Warning: At actuated tlLogic '76515215', linkIndex 3 has no controlling detector.\n",
      "Warning: At actuated tlLogic 'GS_289669879', linkIndex 12 has no controlling detector.\n",
      "Warning: At actuated tlLogic 'GS_289669879', linkIndex 13 has no controlling detector.\n",
      "Warning: At actuated tlLogic 'GS_289669879', linkIndex 14 has no controlling detector.\n",
      "Warning: At actuated tlLogic 'GS_289669879', linkIndex 15 has no controlling detector.\n",
      "Warning: At actuated tlLogic 'GS_63323279', linkIndex 10 has no controlling detector.\n",
      "Warning: At actuated tlLogic 'GS_63323279', linkIndex 11 has no controlling detector.\n",
      "Warning: At actuated tlLogic 'GS_63323279', linkIndex 12 has no controlling detector.\n",
      "Warning: At actuated tlLogic 'GS_cluster_1673650091_301435286_33378685_59869290', linkIndex 9 has no controlling detector.\n",
      "Warning: At actuated tlLogic 'GS_cluster_1673650091_301435286_33378685_59869290', linkIndex 10 has no controlling detector.\n",
      "Warning: At actuated tlLogic 'GS_cluster_1673650091_301435286_33378685_59869290', linkIndex 11 has no controlling detector.\n",
      "Warning: At actuated tlLogic 'GS_cluster_291089218_33837493_33837494_57442778', linkIndex 2 has no controlling detector.\n",
      "Warning: At actuated tlLogic 'GS_cluster_291089218_33837493_33837494_57442778', linkIndex 3 has no controlling detector.\n",
      "Warning: At actuated tlLogic 'GS_cluster_291089218_33837493_33837494_57442778', linkIndex 4 has no controlling detector.\n",
      "Warning: At actuated tlLogic 'GS_cluster_33378655_33378656_59870939_59877929', linkIndex 7 has no controlling detector.\n",
      "Warning: At actuated tlLogic 'GS_cluster_33378655_33378656_59870939_59877929', linkIndex 8 has no controlling detector.\n",
      "Warning: At actuated tlLogic 'GS_cluster_33378655_33378656_59870939_59877929', linkIndex 9 has no controlling detector.\n",
      "Warning: At actuated tlLogic 'cluster_250862976_59866404', linkIndex 11 has no controlling detector.\n",
      "Warning: At actuated tlLogic 'cluster_250862976_59866404', linkIndex 12 has no controlling detector.\n",
      "Warning: At actuated tlLogic 'cluster_250862976_59866404', linkIndex 13 has no controlling detector.\n",
      "Warning: At actuated tlLogic 'cluster_288204966_33531304', linkIndex 10 has no controlling detector.\n",
      "Warning: At actuated tlLogic 'cluster_288204966_33531304', linkIndex 11 has no controlling detector.\n",
      "Warning: At actuated tlLogic 'cluster_288204966_33531304', linkIndex 12 has no controlling detector.\n",
      "Warning: At actuated tlLogic 'cluster_33479844_78078769', linkIndex 10 has no controlling detector.\n",
      "Warning: At actuated tlLogic 'cluster_33479844_78078769', linkIndex 11 has no controlling detector.\n",
      "Warning: At actuated tlLogic 'cluster_33479844_78078769', linkIndex 12 has no controlling detector.\n"
     ]
    },
    {
     "name": "stdout",
     "output_type": "stream",
     "text": [
      "Loading additional-files from '/Users/jost/Desktop/../2022-10-20-17-02-51/osm.poly.xml' ... done (4073ms).\n",
      "Loading done.\n",
      "Simulation version 1.15.0 started with time: 0.00.\n"
     ]
    },
    {
     "data": {
      "text/plain": [
       "(20, 'SUMO 1.15.0')"
      ]
     },
     "execution_count": 2,
     "metadata": {},
     "output_type": "execute_result"
    }
   ],
   "source": [
    "# start traci\n",
    "traci.start(sumo_cmd)"
   ]
  },
  {
   "cell_type": "markdown",
   "metadata": {},
   "source": [
    "### Problems with traci\n",
    "- `traci.lane.getFoes()` might use lane IDs twice for different connections\n",
    "    - eg. junction at the FIN in Magdeburg\n",
    "\n",
    "Solution: take net xml file, skip the ID matching and use foe matrix directly"
   ]
  },
  {
   "cell_type": "code",
   "execution_count": 3,
   "metadata": {},
   "outputs": [
    {
     "data": {
      "text/plain": [
       "'\\nfor tls in traci.trafficlight.getIDList():\\n    get_eff_phases(tls)\\n'"
      ]
     },
     "execution_count": 3,
     "metadata": {},
     "output_type": "execute_result"
    }
   ],
   "source": [
    "with open(\"/Users/jost/2022-10-20-17-02-51/osm.net.xml\", \"r\") as f:\n",
    "    net_data = f.read()\n",
    "net_xml = BeautifulSoup(net_data, \"xml\")\n",
    "\n",
    "\"\"\"\n",
    "for tls in traci.trafficlight.getIDList():\n",
    "    get_eff_phases(tls)\n",
    "\"\"\""
   ]
  },
  {
   "cell_type": "markdown",
   "metadata": {},
   "source": [
    "#### Method: `get_safe_phases(tls_id: str) -> total_safe_phases: list of lists`\n",
    "- **INPUT:** tls ID as string\n",
    "- **OUTPUT:** list of lists, where each inner lists contains connection indices that can share a green phase without colliding\n",
    "\n",
    "**Concept:**  \n",
    "Use the foe matrix of a nets xml file.  \n",
    "A foe of a connection is another connection that might collide with it if they share the same green phase.  \n",
    "  \n",
    "Pairs of two connections sharing the same green phase without colliding (further named safe_phases or safe phase combinations) can be directly infered through the given foe matrix in a net xml file.  \n",
    "Pairs of three, four, five and so on connections sharing the same green phase have to be computed based on the former safe phase combinations.  \n",
    "  \n",
    "The computation goes like:  \n",
    "1. List pair of 2 connections using foe matrix\n",
    "2. Intersect the safe connections of both connections in a pair of two to get the connections that are safe to combine with the pair\n",
    "3. Combine all the intersected connections with the pair and do that for each pair to get pairs of 3 connections\n",
    "4. For those pairs intersect the safe connections of all connections in the pair again to get further addable safe connections\n",
    "5. Repeat the intersection and adding to combination steps until the intersections are empty i.e. there are no further combinable safe connections"
   ]
  },
  {
   "cell_type": "code",
   "execution_count": 12,
   "metadata": {},
   "outputs": [],
   "source": [
    "# given a tls return all possible green combinations that are safe i.e. avoid collisions\n",
    "#* INPUT: tls ID as string\n",
    "#* OUTPUT: list of lists, where each inner lists means that given connection indices can share a green phase without colliding\n",
    "#! make sure that indices are not changed during any parsing step\n",
    "def get_safe_phases(tls_id: str):\n",
    "    #TODO: modify param\n",
    "    junction_id = tls_id \n",
    "    # whole junction including lanes etc\n",
    "    junction_data = net_xml.find('junction', {'id': junction_id})\n",
    "    \n",
    "    #! throw warning if junction type is not traffic_light i.e. it is not controlled by tls\n",
    "    junction_type = junction_data.attrs['type']\n",
    "    if junction_type != 'traffic_light':\n",
    "        warnings.warn(f\"Junction with ID: {junction_id} is not of type 'traffic_light'. Instead it is of type: '{junction_type}'. This means that the junction is not controlled by a tls.\")\n",
    "        \n",
    "    # just request data including foes, cont, index, response\n",
    "    request_data = junction_data.find_all('request')\n",
    "    # just foes\n",
    "    foes = [request.attrs['foes'] for request in request_data]\n",
    "    # foes as np array\n",
    "    foes = np.ma.array([list(map(int, foe)) for foe in foes], mask=False)\n",
    "    \n",
    "    # number of tls / tls controlled connections\n",
    "    n_tls = foes.shape[0]\n",
    "    \n",
    "    #! flip foes to be more intuitive, without flipping columns would be reversed i.e. last value in each row would correspond to index 0\n",
    "    foes = np.fliplr(foes)\n",
    "    \n",
    "    # mask values corresponding to whether a connection has itself as foe or not\n",
    "    # we want to ignore those for further computations\n",
    "    for i in range(n_tls):\n",
    "        foes.mask[i][i] = True\n",
    "    \n",
    "    # non-foes as a non sparse non binary list of foe indices\n",
    "    # practically list of connection indices that don't collide i.e. that can share a green phase\n",
    "    non_foes_ind = [np.where(foes[i] == 0)[0] for i in range(n_tls)]\n",
    "    \n",
    "    # placeholder to collect all safe_phases (safe phase combinations) during computation\n",
    "    total_safe_phases = []\n",
    "    \n",
    "    # for each tls / tls controlled connection list all others that are no foes of each other\n",
    "    # this combines all safe connection combinations which are directly readable from the foe matrix and which don't need further computation\n",
    "    safe_phases = []\n",
    "    for i in range(n_tls):\n",
    "        # pairs of 2: extract from foes\n",
    "        for i2 in non_foes_ind[i]:\n",
    "            #* condition to not take duplicates e.g. [0, 1] and [1, 0]\n",
    "            if i2 > i:\n",
    "                safe_phases.append([i, i2])\n",
    "            else:\n",
    "                continue\n",
    "    \n",
    "    # add safe phases to collection\n",
    "    total_safe_phases += safe_phases\n",
    "    \n",
    "    # placeholder for computation of next level non-foes\n",
    "    curr_non_foes = []\n",
    "    \n",
    "    # for each safe_phase that was combined in the first step -> get the safe connections of the given safe_phase and intersect those safe connections with the possible safe connections of an connection added to the safe phase\n",
    "    # the resulting safe phases contain more connections that can go green in parallel but also leads to less further possibilities to add to that combination\n",
    "    for safe_phase in safe_phases:\n",
    "        # start with first connection of a safe phase\n",
    "        wip_non_foes = non_foes_ind[safe_phase[0]]\n",
    "        # for each other connection of a safe phase get the step-wise intersection\n",
    "        for connection in safe_phase[1:]:\n",
    "            wip_non_foes = np.intersect1d(wip_non_foes, non_foes_ind[connection])\n",
    "        curr_non_foes.append(wip_non_foes)\n",
    "        \n",
    "    # check if non foes exist\n",
    "    # this is used as end condition for the loop\n",
    "    non_foes_exist = False\n",
    "    for non_foe in curr_non_foes:\n",
    "        if non_foe.any():\n",
    "            non_foes_exist = True\n",
    "            break\n",
    "    \n",
    "    # iteratively look for safe_phases and further non_foes\n",
    "    # stop when there are no further connection combinations having no_foe options to add\n",
    "    while non_foes_exist: \n",
    "        # get new safe_phases\n",
    "        #! duplicates allowed, filter befor appending\n",
    "        dupl_safe_phases = []\n",
    "        for i in range(len(safe_phases)):\n",
    "            for connection in curr_non_foes[i]:\n",
    "                dupl_safe_phases.append(safe_phases[i].copy() + [connection])\n",
    "        # filter duplicates\n",
    "        for safe_phase in dupl_safe_phases:\n",
    "            safe_phase.sort()\n",
    "        dupl_safe_phases.sort()\n",
    "        # these are the newly computed safe phase combinations\n",
    "        new_safe_phases = list(k for k,_ in itertools.groupby(dupl_safe_phases))\n",
    "    \n",
    "        # get new indices of non_foes for the newly computed safe phase combinations\n",
    "        # so to speak: for each safe combinations a list of connection indices that could further be added to a given combination\n",
    "        new_non_foes = []\n",
    "        for i in range(len(new_safe_phases)):\n",
    "            wip_non_foes = non_foes_ind[new_safe_phases[i][0]]\n",
    "            for connection in new_safe_phases[i][1:]:\n",
    "                wip_non_foes = np.intersect1d(wip_non_foes, non_foes_ind[connection])\n",
    "            new_non_foes.append(wip_non_foes)\n",
    "        \n",
    "        # add safe phases to collection\n",
    "        total_safe_phases += new_safe_phases\n",
    "        \n",
    "        # overwrite old values for next iteration\n",
    "        curr_non_foes = new_non_foes.copy()\n",
    "        # check if further non foes exist and set ending condition accordingly\n",
    "        non_foes_exist = False\n",
    "        for non_foe in curr_non_foes:\n",
    "            if non_foe.any():\n",
    "                non_foes_exist = True\n",
    "                break\n",
    "                \n",
    "        safe_phases = new_safe_phases.copy()\n",
    "    \n",
    "    # return collection of all connection combinations that can share a green phase and would not lead to collisions\n",
    "    # list of lists where each inner list contains indices of connections\n",
    "    return total_safe_phases, n_tls"
   ]
  },
  {
   "cell_type": "code",
   "execution_count": 31,
   "metadata": {},
   "outputs": [
    {
     "name": "stdout",
     "output_type": "stream",
     "text": [
      "[[0, 1], [0, 2], [0, 5], [0, 6], [0, 7], [0, 8], [0, 9], [0, 10], [0, 11], [0, 12], [0, 13], [1, 2], [1, 6], [1, 7], [1, 8], [2, 3], [2, 4], [2, 5], [2, 6], [2, 9], [2, 10], [2, 11], [2, 12], [2, 13], [3, 4], [3, 5], [3, 6], [3, 10], [3, 11], [3, 12], [3, 13], [4, 5], [4, 6], [4, 10], [4, 11], [4, 12], [4, 13], [5, 6], [6, 7], [6, 8], [6, 9], [6, 10], [6, 11], [7, 8], [7, 9], [7, 10], [7, 11], [8, 9], [8, 10], [8, 11], [9, 10], [9, 11], [10, 12], [10, 13], [11, 12], [11, 13], [12, 13], [0, 1, 2], [0, 1, 6], [0, 1, 7], [0, 1, 8], [0, 2, 5], [0, 2, 6], [0, 2, 9], [0, 2, 10], [0, 2, 11], [0, 2, 12], [0, 2, 13], [0, 5, 6], [0, 6, 7], [0, 6, 8], [0, 6, 9], [0, 6, 10], [0, 6, 11], [0, 7, 8], [0, 7, 9], [0, 7, 10], [0, 7, 11], [0, 8, 9], [0, 8, 10], [0, 8, 11], [0, 9, 10], [0, 9, 11], [0, 10, 12], [0, 10, 13], [0, 11, 12], [0, 11, 13], [0, 12, 13], [1, 2, 6], [1, 6, 7], [1, 6, 8], [1, 7, 8], [2, 3, 4], [2, 3, 5], [2, 3, 6], [2, 3, 10], [2, 3, 11], [2, 3, 12], [2, 3, 13], [2, 4, 5], [2, 4, 6], [2, 4, 10], [2, 4, 11], [2, 4, 12], [2, 4, 13], [2, 5, 6], [2, 6, 9], [2, 6, 10], [2, 6, 11], [2, 9, 10], [2, 9, 11], [2, 10, 12], [2, 10, 13], [2, 11, 12], [2, 11, 13], [2, 12, 13], [3, 4, 5], [3, 4, 6], [3, 4, 10], [3, 4, 11], [3, 4, 12], [3, 4, 13], [3, 5, 6], [3, 6, 10], [3, 6, 11], [3, 10, 12], [3, 10, 13], [3, 11, 12], [3, 11, 13], [3, 12, 13], [4, 5, 6], [4, 6, 10], [4, 6, 11], [4, 10, 12], [4, 10, 13], [4, 11, 12], [4, 11, 13], [4, 12, 13], [6, 7, 8], [6, 7, 9], [6, 7, 10], [6, 7, 11], [6, 8, 9], [6, 8, 10], [6, 8, 11], [6, 9, 10], [6, 9, 11], [7, 8, 9], [7, 8, 10], [7, 8, 11], [7, 9, 10], [7, 9, 11], [8, 9, 10], [8, 9, 11], [10, 12, 13], [11, 12, 13], [0, 1, 2, 6], [0, 1, 6, 7], [0, 1, 6, 8], [0, 1, 7, 8], [0, 2, 5, 6], [0, 2, 6, 9], [0, 2, 6, 10], [0, 2, 6, 11], [0, 2, 9, 10], [0, 2, 9, 11], [0, 2, 10, 12], [0, 2, 10, 13], [0, 2, 11, 12], [0, 2, 11, 13], [0, 2, 12, 13], [0, 6, 7, 8], [0, 6, 7, 9], [0, 6, 7, 10], [0, 6, 7, 11], [0, 6, 8, 9], [0, 6, 8, 10], [0, 6, 8, 11], [0, 6, 9, 10], [0, 6, 9, 11], [0, 7, 8, 9], [0, 7, 8, 10], [0, 7, 8, 11], [0, 7, 9, 10], [0, 7, 9, 11], [0, 8, 9, 10], [0, 8, 9, 11], [0, 10, 12, 13], [0, 11, 12, 13], [1, 6, 7, 8], [2, 3, 4, 5], [2, 3, 4, 6], [2, 3, 4, 10], [2, 3, 4, 11], [2, 3, 4, 12], [2, 3, 4, 13], [2, 3, 5, 6], [2, 3, 6, 10], [2, 3, 6, 11], [2, 3, 10, 12], [2, 3, 10, 13], [2, 3, 11, 12], [2, 3, 11, 13], [2, 3, 12, 13], [2, 4, 5, 6], [2, 4, 6, 10], [2, 4, 6, 11], [2, 4, 10, 12], [2, 4, 10, 13], [2, 4, 11, 12], [2, 4, 11, 13], [2, 4, 12, 13], [2, 6, 9, 10], [2, 6, 9, 11], [2, 10, 12, 13], [2, 11, 12, 13], [3, 4, 5, 6], [3, 4, 6, 10], [3, 4, 6, 11], [3, 4, 10, 12], [3, 4, 10, 13], [3, 4, 11, 12], [3, 4, 11, 13], [3, 4, 12, 13], [3, 10, 12, 13], [3, 11, 12, 13], [4, 10, 12, 13], [4, 11, 12, 13], [6, 7, 8, 9], [6, 7, 8, 10], [6, 7, 8, 11], [6, 7, 9, 10], [6, 7, 9, 11], [6, 8, 9, 10], [6, 8, 9, 11], [7, 8, 9, 10], [7, 8, 9, 11], [0, 1, 6, 7, 8], [0, 2, 6, 9, 10], [0, 2, 6, 9, 11], [0, 2, 10, 12, 13], [0, 2, 11, 12, 13], [0, 6, 7, 8, 9], [0, 6, 7, 8, 10], [0, 6, 7, 8, 11], [0, 6, 7, 9, 10], [0, 6, 7, 9, 11], [0, 6, 8, 9, 10], [0, 6, 8, 9, 11], [0, 7, 8, 9, 10], [0, 7, 8, 9, 11], [2, 3, 4, 5, 6], [2, 3, 4, 6, 10], [2, 3, 4, 6, 11], [2, 3, 4, 10, 12], [2, 3, 4, 10, 13], [2, 3, 4, 11, 12], [2, 3, 4, 11, 13], [2, 3, 4, 12, 13], [2, 3, 10, 12, 13], [2, 3, 11, 12, 13], [2, 4, 10, 12, 13], [2, 4, 11, 12, 13], [3, 4, 10, 12, 13], [3, 4, 11, 12, 13], [6, 7, 8, 9, 10], [6, 7, 8, 9, 11], [0, 6, 7, 8, 9, 10], [0, 6, 7, 8, 9, 11], [2, 3, 4, 10, 12, 13], [2, 3, 4, 11, 12, 13]]\n",
      "[0, 1, 2, 3, 4, 5, 6, 7, 8, 9, 10, 11, 12, 13]\n",
      "[0, 1, 2, 3, 4, 5, 6, 7, 8, 9, 10, 11, 12, 13, 14, 15, 16, 17, 18, 19, 20, 21, 22, 23, 24, 25, 26, 27, 28, 29, 30, 31, 32, 33, 34, 35, 36, 37, 38, 39, 40, 41, 42, 43, 44, 45, 46, 47, 48, 49, 50, 51, 52, 53, 54, 55, 56, 57, 58, 59, 60, 61, 62, 63, 64, 65, 66, 67, 68, 69, 70, 71, 72, 73, 74, 75, 76, 77, 78, 79, 80, 81, 82, 83, 84, 85, 86, 87, 88, 89, 90, 91, 92, 93, 94, 95, 96, 97, 98, 99, 100, 101, 102, 103, 104, 105, 106, 107, 108, 109, 110, 111, 112, 113, 114, 115, 116, 117, 118, 119, 120, 121, 122, 123, 124, 125, 126, 127, 128, 129, 130, 131, 132, 133, 134, 135, 136, 137, 138, 139, 140, 141, 142, 143, 144, 145, 146, 147, 148, 149, 150, 151, 152, 153, 154, 155, 156, 157, 158, 159, 160, 161, 162, 163, 164, 165, 166, 167, 168, 169, 170, 171, 172, 173, 174, 175, 176, 177, 178, 179, 180, 181, 182, 183, 184, 185, 186, 187, 188, 189, 190, 191, 192, 193, 194, 195, 196, 197, 198, 199, 200, 201, 202, 203, 204, 205, 206, 207, 208, 209, 210, 211, 212, 213, 214, 215, 216, 217, 218, 219, 220, 221, 222, 223, 224, 225, 226, 227, 228, 229, 230, 231, 232, 233, 234, 235, 236, 237, 238, 239, 240, 241, 242, 243, 244, 245, 246, 247, 248, 249, 250, 251, 252, 253, 254, 255, 256, 257, 258, 259, 260, 261, 262, 263, 264, 265, 266, 267, 268, 269, 270]\n",
      "[2, 2, 2, 2, 2, 2, 2, 2, 2, 2, 2, 2, 2, 2, 2, 2, 2, 2, 2, 2, 2, 2, 2, 2, 2, 2, 2, 2, 2, 2, 2, 2, 2, 2, 2, 2, 2, 2, 2, 2, 2, 2, 2, 2, 2, 2, 2, 2, 2, 2, 2, 2, 2, 2, 2, 2, 2, 3, 3, 3, 3, 3, 3, 3, 3, 3, 3, 3, 3, 3, 3, 3, 3, 3, 3, 3, 3, 3, 3, 3, 3, 3, 3, 3, 3, 3, 3, 3, 3, 3, 3, 3, 3, 3, 3, 3, 3, 3, 3, 3, 3, 3, 3, 3, 3, 3, 3, 3, 3, 3, 3, 3, 3, 3, 3, 3, 3, 3, 3, 3, 3, 3, 3, 3, 3, 3, 3, 3, 3, 3, 3, 3, 3, 3, 3, 3, 3, 3, 3, 3, 3, 3, 3, 3, 3, 3, 3, 3, 3, 3, 3, 3, 3, 3, 3, 3, 4, 4, 4, 4, 4, 4, 4, 4, 4, 4, 4, 4, 4, 4, 4, 4, 4, 4, 4, 4, 4, 4, 4, 4, 4, 4, 4, 4, 4, 4, 4, 4, 4, 4, 4, 4, 4, 4, 4, 4, 4, 4, 4, 4, 4, 4, 4, 4, 4, 4, 4, 4, 4, 4, 4, 4, 4, 4, 4, 4, 4, 4, 4, 4, 4, 4, 4, 4, 4, 4, 4, 4, 4, 4, 4, 4, 4, 4, 4, 4, 4, 5, 5, 5, 5, 5, 5, 5, 5, 5, 5, 5, 5, 5, 5, 5, 5, 5, 5, 5, 5, 5, 5, 5, 5, 5, 5, 5, 5, 5, 5, 6, 6, 6, 6]\n"
     ]
    }
   ],
   "source": [
    "def safe_phases_to_bp_items(safe_phases, n_tls):\n",
    "    print(safe_phases)\n",
    "    all_connections = [i for i in range(n_tls)]\n",
    "    print(all_connections)\n",
    "    items = [i for i in range(len(safe_phases))]\n",
    "    print(items)\n",
    "    # TODO: later calc values from all connections in a safe phase based on traffic passthrough\n",
    "    lengths = [len(safe_phase) for safe_phase in safe_phases]\n",
    "    print(lengths)\n",
    "    return items, all_connections, lengths\n",
    "    \n",
    "\n",
    "all_safe_phases, n_tls = get_safe_phases(\"cluster_244996795_33401116_4471941369_60603339\")\n",
    "bp_items, bp_required, bp_lengths = safe_phases_to_bp_items(all_safe_phases, n_tls)"
   ]
  },
  {
   "cell_type": "code",
   "execution_count": 28,
   "metadata": {},
   "outputs": [
    {
     "name": "stdout",
     "output_type": "stream",
     "text": [
      "\n",
      "Number of bins used: 0\n",
      "Time =  2590  milliseconds\n"
     ]
    }
   ],
   "source": [
    "# FIN intersection\n",
    "all_safe_phases, n_tls = get_safe_phases(\"cluster_244996795_33401116_4471941369_60603339\")\n",
    "\n",
    "bp_items, bp_required, bp_lengths = safe_phases_to_bp_items(all_safe_phases, n_tls)\n",
    "\n",
    "# Google OR Tools - The Bin Packing Problem tutorial\n",
    "# https://developers.google.com/optimization/bin/bin_packing\n",
    "from ortools.linear_solver import pywraplp\n",
    "\n",
    "def create_data_model():\n",
    "    \"\"\"Create the data for the example.\"\"\"\n",
    "    data = {}\n",
    "    # weights = capacity because only one safe phase should be picked per phase\n",
    "    data['weights'] = [1] * len(bp_items)\n",
    "    data['items'] = bp_items\n",
    "    data['bins'] = data['items']\n",
    "    data['bin_capacity'] = 1\n",
    "    # added some data entries to use for solving\n",
    "    data['values'] = bp_lengths\n",
    "    data['required'] = bp_required\n",
    "    data['safe_phases'] = all_safe_phases\n",
    "    return data\n",
    "\n",
    "# Create the mip solver with the SCIP backend.\n",
    "solver = pywraplp.Solver.CreateSolver('SCIP')\n",
    "\n",
    "data = create_data_model()\n",
    "\n",
    "# Variables\n",
    "# TODO: maybe change to: x[i, j] = len(i) if item i is packed in bin j?\n",
    "    # to reinforce phases with many green connections\n",
    "# TODO: even later change to x[i, j] = sum(values(i)) if item i is packed in bin j?\n",
    "    # to reinforce phases with connections that have a high traffic passthrough\n",
    "# x[i, j] = 1 if item i is packed in bin j.\n",
    "x = {}\n",
    "for i in data['items']:\n",
    "    for j in data['bins']:\n",
    "        x[(i, j)] = solver.IntVar(0, 1, 'x_%i_%i' % (i, j))\n",
    "\n",
    "# tries to implement: 1 if conection con is in bin j\n",
    "x2 = {}\n",
    "for index, i in enumerate(data['items']):\n",
    "    for con in data['safe_phases'][index]:\n",
    "        for j in data['bins']:\n",
    "            x2[(con, j)] = solver.IntVar(0, 1, 'x2_%i_%i' % (con, j))\n",
    "\n",
    "# y[j] = 1 if bin j is used.\n",
    "y = {}\n",
    "for j in data['bins']:\n",
    "    y[j] = solver.IntVar(0, 1, 'y[%i]' % j)\n",
    "    \n",
    "# Constraints\n",
    "# TODO: change -> each item of an item must be in at least one bin\n",
    "\"\"\"\n",
    "for i in data['items']:\n",
    "    solver.Add(sum(x[i, j] for j in data['bins']) == 1)\n",
    "\"\"\"\n",
    "# Each connection must be in at least one bin.\n",
    "for con in data['required']:\n",
    "    solver.Add(sum(x2[con, j] for j in data['bins']) >= 1)\n",
    "\n",
    "# The amount packed in each bin cannot exceed its capacity.\n",
    "for j in data['bins']:\n",
    "    solver.Add(\n",
    "        sum(x[(i, j)] * data['weights'][i] for i in data['items']) <= y[j] *\n",
    "        data['bin_capacity'])\n",
    "    \n",
    "# Objective: minimize the number of bins used.\n",
    "# TODO: could also be changed to maximize value of connections as well\n",
    "solver.Minimize(solver.Sum([y[j] for j in data['bins']]))\n",
    "\n",
    "status = solver.Solve()\n",
    "if status == pywraplp.Solver.OPTIMAL:\n",
    "    num_bins = 0\n",
    "    for j in data['bins']:\n",
    "        if y[j].solution_value() == 1:\n",
    "            bin_items = []\n",
    "            bin_weight = 0\n",
    "            for i in data['items']:\n",
    "                if x[i, j].solution_value() > 0:\n",
    "                    bin_items.append(i)\n",
    "                    bin_weight += data['weights'][i]\n",
    "            if bin_weight > 0:\n",
    "                num_bins += 1\n",
    "                print('Bin number', j)\n",
    "                print('  Items packed:', bin_items)\n",
    "                print('  Total weight:', bin_weight)\n",
    "                print()\n",
    "    print()\n",
    "    print('Number of bins used:', num_bins)\n",
    "    print('Time = ', solver.WallTime(), ' milliseconds')\n",
    "else:\n",
    "    print('The problem does not have an optimal solution.')"
   ]
  },
  {
   "cell_type": "code",
   "execution_count": 29,
   "metadata": {},
   "outputs": [],
   "source": [
    "def get_unique_junction_ids(xml_net_path):\n",
    "    with open(xml_net_path, \"r\") as f:\n",
    "        net_data = f.read()\n",
    "        \n",
    "    # find all junctions controlled by a tls\n",
    "    junction_list = re.findall(pattern=\"junction id=.* type=\\\"traffic_light\\\"\", string=net_data)\n",
    "    # extract junction ID from regex matches\n",
    "    junction_list = [regex_match.split(\"\\\"\")[1] for regex_match in junction_list]\n",
    "    \n",
    "    unique_junction_ids = []\n",
    "    foe_matrices = []\n",
    "    \n",
    "    for junction_id in junction_list:\n",
    "        junction_data = net_xml.find('junction', {'id': junction_id})\n",
    "        request_data = junction_data.find_all('request')\n",
    "        foes = [request.attrs['foes'] for request in request_data]\n",
    "        foes_str = \"\"\n",
    "        for foe in foes:\n",
    "            foes_str += foe\n",
    "        if foes_str in foe_matrices:\n",
    "            continue\n",
    "        else:\n",
    "            foe_matrices.append(foes_str)\n",
    "            unique_junction_ids.append(junction_id)\n",
    "            \n",
    "    return unique_junction_ids"
   ]
  },
  {
   "cell_type": "code",
   "execution_count": 30,
   "metadata": {},
   "outputs": [],
   "source": [
    "unique_junction_list = get_unique_junction_ids(\"/Users/jost/2022-10-20-17-02-51/osm.net.xml\")"
   ]
  },
  {
   "cell_type": "code",
   "execution_count": 28,
   "metadata": {},
   "outputs": [],
   "source": [
    "for junction_id in unique_junction_list:\n",
    "    get_safe_phases(junction_id)"
   ]
  },
  {
   "cell_type": "code",
   "execution_count": 10,
   "metadata": {},
   "outputs": [],
   "source": [
    "def count_same_topology():\n",
    "    \n",
    "    with open(\"/Users/jost/2022-10-20-17-02-51/osm.net.xml\", \"r\") as f:\n",
    "        net_data = f.read()\n",
    "    # find all junctions controlled by a tls\n",
    "    junction_list = re.findall(pattern=\"junction id=.* type=\\\"traffic_light\\\"\", string=net_data)\n",
    "    # extract junction ID from regex matches\n",
    "    junction_list = [regex_match.split(\"\\\"\")[1] for regex_match in junction_list]\n",
    "    print(f\"There are {len(junction_list)} junctions controlled by a tls.\")\n",
    "    \n",
    "    # TODO: for each junctionid get foes np array, put them into another np array and use np.unique() on that\n",
    "    # collect all foe matrices including duplicates\n",
    "    foe_matrices = []\n",
    "    # also count rotated foe matrices\n",
    "    rotated_foe_matrices = []\n",
    "    \n",
    "    net_xml = BeautifulSoup(net_data, \"xml\")\n",
    "    \n",
    "    # get foe matrix for each junction_id controlled by a tls\n",
    "    for junction_id in junction_list:\n",
    "        junction_data = net_xml.find('junction', {'id': junction_id})\n",
    "        request_data = junction_data.find_all('request')\n",
    "        foes = [request.attrs['foes'] for request in request_data]\n",
    "        #print(foes)\n",
    "        # sort foes to get rotated topologies\n",
    "        rotated_foes = sorted(foes)\n",
    "        #print(rotated_foes)\n",
    "        foes_str = \"\"\n",
    "        rotated_str = \"\"\n",
    "        for foe in foes:\n",
    "            foes_str += foe\n",
    "        for foe in rotated_foes:\n",
    "            rotated_str += foe\n",
    "        foe_matrices.append(foes_str)\n",
    "        rotated_foe_matrices.append(rotated_str)\n",
    "    \n",
    "    foe_matrices = set(foe_matrices)\n",
    "    rotated_foe_matrices = set(rotated_foe_matrices)\n",
    "    print(rotated_foe_matrices)\n",
    "    print(f\"There are {len(foe_matrices)} unique junction topologies controlled by a tls.\")\n",
    "    print(f\"If rotation is allowed i.e. the index of a connection doesn't matter, there are {len(rotated_foe_matrices)} unique junction topologies controlled by a tls.\")"
   ]
  },
  {
   "cell_type": "code",
   "execution_count": 11,
   "metadata": {},
   "outputs": [
    {
     "name": "stdout",
     "output_type": "stream",
     "text": [
      "There are 195 junctions controlled by a tls.\n",
      "{'000000100001000000111110000001000010000011000110001000000100001100000110010000001000010000010000011011100000011101100000100000100000110000000111', '0000000000100000000001000000000000000110001111100000011111000110000010000100001000010000010000100010000010000100001000010000010000111110000001100100001000000111010000100000100001000010000100000110000001111100011000111110000001111100011000001110000001000010', '000100010001000110011110000111100010001000100010001001000010010010000100010010001000011000011110011011110000100100010000110110000011111000010001', '000001000010000001100011000001111100000010000100000100000100001000001000001000010000001111100000010000100000011000000111110001100000111000000110', '0000000000000000000000000', '0000010001000001111000000111100000100010000100001001100000000110000000011111000010000100001110000011', '0000100011000011110000010001000010000100010000100001000100000111100000100010000010001000001100000111', '0000001100000000000000100000100001000001110001011100000011111100011000001000001000010000100000010000100010000001000010000100000100000100001111110000001100100001100000000001100000001111100011000000011111000110001111110000001111100001100000100001000001000001100011100000011111100000001100011', '0000010000100001000001100111111000000111110001100000100001000010000100000100001000100000100001000010000100000100001111100000011001000010000010000100001000010000011000000111110001100111111000000111110001100000100001000010000011000110000001111110000001100111', '0000001000010001000111100100010001001000011100001001000011000011', '0000000000000001000100000101100000100010000010001000110000100100000000011111000010000100001100000011', '000110000000111011001000001010000001100000010100000110100000110100111000111000000', '0000000001100000000110000000000011100000110000111000001100001111100010000011111000100001000010001000100000100010110000000000001100000011101011000000111100110000001111001111100011100011111110000010', '0000000000000000', '0000011000000110000110000001111010000111100001111111100011111000', '0000000000000000011000000001100000100000000011111001000010000100010000011110000001111000001100000110', '0000000000000110000000000010000100000000010001100000011000000000000001100010111000000111110001100010000010000000001000010000000000101110000001100100011000000000011000000111100001100000011110000111100001100000011110000110000010000000001000001100011000000111', '0000000011000000000110000010000010000111111001000001000010000010000100011000001111000000011110000001000100000011000000111', '000000000110000111010000110000110000', '000001001111100010100010101100110000', '0000000000110000000000010001100000000000110011111100000001111000011000000011110000110000001000100000100000100001000001000110000000000100001111110000001100100000100000100001000001000010000011100000111111000111000111110000001111110011100000110000110000001111100001100000011111110000011100010', '000000000001100000000000100001100000000000110001111110000000111110000110000000111110000110000001000010000010000010000010000010001100000000000000001100000000000100001111110000000110010000010000001000010000010000010000011100000011111100011100010111100000011111100011100000110000110000000111110000110000000111111100000011100010', '0000000000001100000000100011000011000000000000110000111100001111100111010000010001000100001000010001011100000111100011000000001100000011110011000000111100110011111000001111000010000011110000100000', '0000000000000000000001000010000100000110011011100000011111000110000010000100001000010000010000100010000010000100001000010000010001000010000000000110000001101100011000111110000001111100011000000111111000000110100001000010000011000110000001111110000001100011', '0000000000000000000001000010000100000110011111100000011011000110000010000100001000010000010000100010000000000100010000100000100001000010000100000110000001111100011000101110000001111100011000000111111000000110100001000010000011000110000001111110000001100011', '0000110000000100001000011100100001111100001000010000100010000110000011011000001111011100001110000010', '0000110001100001111100000100001000010000010001000001000010000100000111110000010001100000100011000001100000011111000000111', '000001100011000001111100000010000100000010000100001100000100010000001000010000010000011111100000100001100000100001100000110000000111110000000111', '000000000001100000000000100001100000000000110011111110000000111110000110000000111110000110000001000010000010000010000010000010001100000000000000001100000000000100010000010000001000010000010000010000011100000011111100011100010111100000011111100011100000011111110000000110110000110000000111110000110000000111111100000011100010', '0000000110000001100000000100011000001110110000011110000001000000000110000111001100001110110111000011101110000111100001100', '0000010000000001111100001000110000100011001100001101000000000100000000011111000001111100001100000011', '0000000000010000000100100001110000100100001010000100000011100000', '0000010000100000111110000001111100000100001000010000010011000001000110000010001100011000011111000001000010000011100000011', '0000011000111000001111100000000111110000000100001000000100000100001100000000000110000000000011111100000010000110000001000011000000100001100000011100000011111110000001111', '0000001000010000100000011000111110000000111110001100000001111100011000000100001000010000010000010000100011000000000000000110000000000100001111110000001100100000100000100001000001000010000011100000011111000111000101110000001111110001100000100000100001000001100001100000011111110000001100011', '0000010111000001101100000110110000100001000100000101100000001000010000111000011011100100001111100000', '0110', '0000001100000000000000100000100001000001110011011100000011111100011000001000001000010000100000010000100010000001000010000100000100000100010000110000000000110000000111110001100000001111100011000111111000000111110000110000001111111000000110100001000001000001100011100000011111100000001100011', '000000000000000000000000000000000110000000000010000110000000110000000000000001000001000001000001110001011110000001110110001110001000000000001000001011110000001110010000110000000000011000000011111000011000000011111000011000110111000000011111000011000000011111000011000000100001000001000000110001110000001111111000000011000111', '000000111000001000000010010000110110000110110110000100110111000111000110111011000', '0000000000000000000100000011000110000111110001000001000010000100000101110000010001100000100011000001100000011111000000111', '0000100000011100010010010001010000001111001100001', '0000000000000000110000000000001100000000000000001000001100000001100000000000000001000001100000000000111000110111100000011111100001110001000000100000100000100000100000010000010111100000001110010000110000000000001100000001111110000110000000111111000011000111111100000001111100001110000000111110000111000000110001110000000111111000111000000011111110000000111000110', '0000000000001000010010001010011100010010001100011', '000000111111000011011011000100001001001000001001010000010010010000010010100000000100100000111000110011000110110011011000111100000111111100001000', '0000100111100101010011000', '0000010000100001000001100111111000000111110001100000100001000010000100000100001000100000100001000010000100000100010000100000100001000010000100000110000001111100011001111110000001111100011000000111111000000110100001000010000011000110000001111110000001100111', '0000000000000000011000000000000011000000000000000001000001100000000110000000000000000010000011000000000000111000110111100000001111110000111000000011111100001110001100000000000000000011000000000000100000110111100000001110010000011000000000000111000000011111100001110000000111111000011100011011110000000111111000011100000001111110000111000000110000111000000011111100001110000000111111110000000111000110', '0000000000000110000000011000000001100011001000000101000000011000001110100000111010011000001110000000', '0000010001100000111100000001111000000100010000010000100011000000000110000000001111100000100001000001000010000011100000111', '0000101000010100001010000110000100011101001111001', '0000000000010000010000010100010010001110011000100', '000000000001100000000000100001100000000000110001111110000000111110000110000000111110000110000001000010000010000010000010000010001100000000000000001100000000000100001111110000000110010000010000001000010000010000010000011100000011111100011100110111100000011111100011100000110000110000000111110000110000000111111100000011100110', '0000000000000111000010000', '0000001100000000110000000011100000110000000011000000110000000011000000010000000011000000011100000001', '0000000000110000000000100011000000000011001111100000001111000110000000111100011000000100010000100000100001000010001100000000010000111111000001100100000100000000011100000111110001110001111100000111111001110000110000110000011111000011000001111111000001110010', '0000000000000000000100000011000000000110000000001111100000011111001100000000011000000000110000001111100000011111011100000', '000000000000000000000100000001100011000001111100000001111100011000000000011000000000011011100000100001100000100001100000111000000111111000000111', '000001100000000001100000000001111110000010000110000010000110001100000110010000001000010000010000011111100000011111100000110000000111110000000111', '0010000111010000100011000', '0000001000001000011100100100010100001100001000000', '0000000000000000011000000000000011000000000000000001000001100000000110000000000000000010000011000000000000111000110111100000001111110000111000000011111100001110001100000000000000000011000000000000100000110111100000001110010000011000000000000111000000011111100001110000000111111000011100111011110000000111111000011100000001111110000111000000110000111000000011111100001110000000111111110000000111001110', '0001001001001000', '0000000000000000001000001100000110011000001110000', '0000110000011100001100000111000011000110000000111110011000001111100110000100001000100010000010001011000000000000110000000001001100000011101111000000111011110000011110001111110000011011111100111000', '000001000001000000001000010000000010000100001000011111000110000100001000010001000001000010010000001111100010000010000100010000100000100010001111100000011110001100000011111000000110100010000100000100011000000111110000001100011', '0000011000000000110000000001111100000100001000001000010001100000100100000010001000001000011111100001100000001111000000011', '0000', '0000000001100000000001100111111000000111100001100000011110000110000010001000001000010000100000100110000000000000011111100000011010000010000010001000001000010000100001100000011110000110000001111110000011100010111000001111110011100010111000001111110011100000', '0000100110000011011100001110000000111000001100000001000100000111000111110011000011001100001111000110', '0000011000000001000010000011100100000111110000001111100001100000000011000000001110000011011100000111100111000011110000010', '0000001000010011000111000010010000101000010100000110001111010000', '0010001101001100', '0000000011000000000110000001000010000011111000000111110011000000000110000000001111100000011111000001000010000011100000111', '0000010000100001000001100011111000000111110001100000100001000010000100000100001000100000100001000010000100000100001111100000011001000010000010000100001000010000011000000111110001100011111000000111110001100000100001000010000011000110000001111110000001100011', '000011111000100011000100011011000011100000100100000100100011000111100000111100000', '0000100000000011111000001111100001000010001000001011000000111100000100110000010011000110001111100000', '000001000011000001111100000001111100000010000100000100000100011000001000011000001000011000110000011111000000100001000000100001000000111000000111', '0000000000000110000000000100011000000000100000000000000100000000000001100000000000001000001000010000111000101110000111100000011001000000011110000100000001111000010001100000000001111000011000000111100001100000100010000010000011000000011001111100111000000111', '0000010000100001000001100011111000000111110001100000100001000010000100000100001000100000100001000010000100000100001111100000011001000010000010000100001000010000011000000111110001100111111000000111110001100000100001000010000011000110000001111110000001100111', '0000010000100001000001100111111000000111110001100000100001000010000100000100001000100000100001000010000100000100010000100000100001000010000100000110000001111100011000111110000001111100011000000111111000000110100001000010000011000110000001111110000001100011', '0000000000000000000110000010000010000111111001000001000010000010000100011000001011000000010110000001000100000011000000111', '0000100010000100110010000', '000010000100000000011000111110000011111000110000110001000010001000001000010010000010000100010000100000100011111000000110100001000001000100001000010000100011000000111110000001111100110001111100000111000001100011111110001100000', '000000000000000001100011000001101100000010000100000010000100001100000100010000000000011111100000100001100000100001100000110000000111110000000111', '000000000110000000000110000001000001000001111110000001111110011000001000011000001000011000110000011111000000011111000000100001000000111000000111', '000001001000001110000010010000010010001100010010000000011111000100001000110000011', '000000000000000110000000000010000110000000110000000000000001000001000001000001110001011110000001111110001110001000000100001000001000001000001000001011110000001110010000110000000000011000000011111000011000000011111000011000111111000000011111000011000000011111000011000000100001000001000000110001110000001111111000000011000111', '0000000000000110000000000100011000000100001000010000011100111110000001111100111000100000000010000010111100001110010000110000000001100000011110000110000001111000011000111110000001111100011000000111110001100000100001000010000011000111000011111110000001100111', '000000000000010000000011110000100010001000010010000100010001000011110000110000010', '0000000000000000100100001101100000110110011000011001100001100110111000011011100010000001111000001000', '000000000000000110000000000010000110000000110000000000000001000001000001000001110001011110000001111110001110001000000100001000001000001000001000001011110000001110010000110000000000011000000011111000011000000011111000011001111111000000011111000011000000011111000011000000100001000001000000110001110000001111111000000011001111', '0000010001000000111101000011100010010010001110000', '000001100', '0000000000000011000000000010000110000001000010000010000011000111111000000111110001110001000001000010000010000100000100000101110000001110010000100000100000100001000010000001100000011111000011000111110000000111110001100000001111100011000000100001000010000001100011000000111111100000011000111', '000000000000000110000000000010000110000000110000000000000001000001000001000001110011011110000001111110001110001000000100001000001000001000001000010000110000000000011000000011111000011000000011111000011000111111000000011011110000001110011111000011000000011111000011000000100001000001000000110001110000001111111000000011000111', '0000010000100001000000001000010001000000001000010001000010000111101111000110000100001000100001000100000100010000100011111100001000010010000001110111110001000000111100001000100000011110000100010000110000000010001000111000011111000100011100111100000011110001100110000001111100111000001101000100001000100000100011000110000011111000000110011000111100111100001100011', '000101001010010010011100100011100100', '000010001000011110000100010001000010010000100010001000011110000100010000110000011', '000000000', '0000000001000011000000110000000000000010000010000010000111001101111000001111110001110001000001000010000010000100000100001000110000000000011000000111110000110000001111100001100111111000000011110000110000000111100001100000001111110000001110100010000010000001100111000000111111100000011000111', '000001000100001000001100111110000001111000110000010000000010000100000000010001000001000100001000010000100010000100001000010000100010000011000000111100011001111100000011111000100000100001000100000110001100000111111000000100111', '0000010001000000111000100011010010001010001010000'}\n",
      "There are 103 unique junction topologies controlled by a tls.\n",
      "If rotation is allowed i.e. the index of a connection doesn't matter, there are 103 unique junction topologies controlled by a tls.\n"
     ]
    }
   ],
   "source": [
    "count_same_topology()"
   ]
  },
  {
   "cell_type": "code",
   "execution_count": 33,
   "metadata": {},
   "outputs": [],
   "source": [
    "def get_efficient_phases(tls_id: str):\n",
    "    # extract junction ID from TLS ID -> ignore \"GS_\" at the beginning\n",
    "    #! this might be net-specific\n",
    "    if tls_id.startswith(\"GS_\"):\n",
    "        junction_id = tls_id[3:]\n",
    "    else:\n",
    "        junction_id = tls_id\n",
    "    \n",
    "    # whole junction including lanes etc\n",
    "    junction_data = net_xml.find('junction', {'id': junction_id})\n",
    "    \n",
    "    #! throw warning if junction type is not traffic_light i.e. it is not controlled by tls\n",
    "    junction_type = junction_data.attrs['type']\n",
    "    if junction_type != 'traffic_light':\n",
    "        warnings.warn(f\"Junction with ID: {junction_id} is not of type 'traffic_light'. Instead it is of type: '{junction_type}'. This means that the junction is not controlled by a tls.\")\n",
    "        \n",
    "    # just request data including foes, cont, index, response\n",
    "    request_data = junction_data.find_all('request')\n",
    "    n_tls = [i for i in range(len(request_data))]\n",
    "    print(n_tls)\n",
    "    \n",
    "    # get all safe phases for same tls_id\n",
    "    all_safe_phases = get_safe_phases(tls_id)\n",
    "    # reverse list of safe phases to get more combined connections first\n",
    "    all_safe_phases.reverse()\n",
    "    \n",
    "    # always pick first\n",
    "    # ! this yields the assumption that the first combination is never a bad choice and simplifies the algorithm\n",
    "    efficient_phases = [all_safe_phases[0]]\n",
    "    for connection in all_safe_phases[0]:\n",
    "        n_tls.remove(connection)\n",
    "    print(n_tls)\n",
    "    \n",
    "    \n",
    "    print(all_safe_phases)\n",
    "    for connections in all_safe_phases[1:]:\n",
    "        if not n_tls:\n",
    "            break\n",
    "        else:\n",
    "            for connection in connections:\n",
    "                if connection in n_tls:\n",
    "                    n_tls.remove(connection)\n",
    "                    efficient_phases.append(connections)\n",
    "                if not n_tls:\n",
    "                        break\n",
    "    #efficient_phases = set(efficient_phases)\n",
    "        \n",
    "    print(efficient_phases)\n",
    "    \n",
    "    \n",
    "    # TODO: pick first entries containing connections and check all other occuring connections\n",
    "    # TODO: repeat until each connection in n_tls is checked\n",
    "    "
   ]
  },
  {
   "cell_type": "code",
   "execution_count": 34,
   "metadata": {},
   "outputs": [
    {
     "name": "stdout",
     "output_type": "stream",
     "text": [
      "[0, 1, 2, 3, 4, 5, 6, 7, 8, 9, 10, 11, 12, 13]\n",
      "[0, 1, 5, 6, 7, 8, 9, 10]\n",
      "[[2, 3, 4, 11, 12, 13], [2, 3, 4, 10, 12, 13], [0, 6, 7, 8, 9, 11], [0, 6, 7, 8, 9, 10], [6, 7, 8, 9, 11], [6, 7, 8, 9, 10], [3, 4, 11, 12, 13], [3, 4, 10, 12, 13], [2, 4, 11, 12, 13], [2, 4, 10, 12, 13], [2, 3, 11, 12, 13], [2, 3, 10, 12, 13], [2, 3, 4, 12, 13], [2, 3, 4, 11, 13], [2, 3, 4, 11, 12], [2, 3, 4, 10, 13], [2, 3, 4, 10, 12], [2, 3, 4, 6, 11], [2, 3, 4, 6, 10], [2, 3, 4, 5, 6], [0, 7, 8, 9, 11], [0, 7, 8, 9, 10], [0, 6, 8, 9, 11], [0, 6, 8, 9, 10], [0, 6, 7, 9, 11], [0, 6, 7, 9, 10], [0, 6, 7, 8, 11], [0, 6, 7, 8, 10], [0, 6, 7, 8, 9], [0, 2, 11, 12, 13], [0, 2, 10, 12, 13], [0, 2, 6, 9, 11], [0, 2, 6, 9, 10], [0, 1, 6, 7, 8], [7, 8, 9, 11], [7, 8, 9, 10], [6, 8, 9, 11], [6, 8, 9, 10], [6, 7, 9, 11], [6, 7, 9, 10], [6, 7, 8, 11], [6, 7, 8, 10], [6, 7, 8, 9], [4, 11, 12, 13], [4, 10, 12, 13], [3, 11, 12, 13], [3, 10, 12, 13], [3, 4, 12, 13], [3, 4, 11, 13], [3, 4, 11, 12], [3, 4, 10, 13], [3, 4, 10, 12], [3, 4, 6, 11], [3, 4, 6, 10], [3, 4, 5, 6], [2, 11, 12, 13], [2, 10, 12, 13], [2, 6, 9, 11], [2, 6, 9, 10], [2, 4, 12, 13], [2, 4, 11, 13], [2, 4, 11, 12], [2, 4, 10, 13], [2, 4, 10, 12], [2, 4, 6, 11], [2, 4, 6, 10], [2, 4, 5, 6], [2, 3, 12, 13], [2, 3, 11, 13], [2, 3, 11, 12], [2, 3, 10, 13], [2, 3, 10, 12], [2, 3, 6, 11], [2, 3, 6, 10], [2, 3, 5, 6], [2, 3, 4, 13], [2, 3, 4, 12], [2, 3, 4, 11], [2, 3, 4, 10], [2, 3, 4, 6], [2, 3, 4, 5], [1, 6, 7, 8], [0, 11, 12, 13], [0, 10, 12, 13], [0, 8, 9, 11], [0, 8, 9, 10], [0, 7, 9, 11], [0, 7, 9, 10], [0, 7, 8, 11], [0, 7, 8, 10], [0, 7, 8, 9], [0, 6, 9, 11], [0, 6, 9, 10], [0, 6, 8, 11], [0, 6, 8, 10], [0, 6, 8, 9], [0, 6, 7, 11], [0, 6, 7, 10], [0, 6, 7, 9], [0, 6, 7, 8], [0, 2, 12, 13], [0, 2, 11, 13], [0, 2, 11, 12], [0, 2, 10, 13], [0, 2, 10, 12], [0, 2, 9, 11], [0, 2, 9, 10], [0, 2, 6, 11], [0, 2, 6, 10], [0, 2, 6, 9], [0, 2, 5, 6], [0, 1, 7, 8], [0, 1, 6, 8], [0, 1, 6, 7], [0, 1, 2, 6], [11, 12, 13], [10, 12, 13], [8, 9, 11], [8, 9, 10], [7, 9, 11], [7, 9, 10], [7, 8, 11], [7, 8, 10], [7, 8, 9], [6, 9, 11], [6, 9, 10], [6, 8, 11], [6, 8, 10], [6, 8, 9], [6, 7, 11], [6, 7, 10], [6, 7, 9], [6, 7, 8], [4, 12, 13], [4, 11, 13], [4, 11, 12], [4, 10, 13], [4, 10, 12], [4, 6, 11], [4, 6, 10], [4, 5, 6], [3, 12, 13], [3, 11, 13], [3, 11, 12], [3, 10, 13], [3, 10, 12], [3, 6, 11], [3, 6, 10], [3, 5, 6], [3, 4, 13], [3, 4, 12], [3, 4, 11], [3, 4, 10], [3, 4, 6], [3, 4, 5], [2, 12, 13], [2, 11, 13], [2, 11, 12], [2, 10, 13], [2, 10, 12], [2, 9, 11], [2, 9, 10], [2, 6, 11], [2, 6, 10], [2, 6, 9], [2, 5, 6], [2, 4, 13], [2, 4, 12], [2, 4, 11], [2, 4, 10], [2, 4, 6], [2, 4, 5], [2, 3, 13], [2, 3, 12], [2, 3, 11], [2, 3, 10], [2, 3, 6], [2, 3, 5], [2, 3, 4], [1, 7, 8], [1, 6, 8], [1, 6, 7], [1, 2, 6], [0, 12, 13], [0, 11, 13], [0, 11, 12], [0, 10, 13], [0, 10, 12], [0, 9, 11], [0, 9, 10], [0, 8, 11], [0, 8, 10], [0, 8, 9], [0, 7, 11], [0, 7, 10], [0, 7, 9], [0, 7, 8], [0, 6, 11], [0, 6, 10], [0, 6, 9], [0, 6, 8], [0, 6, 7], [0, 5, 6], [0, 2, 13], [0, 2, 12], [0, 2, 11], [0, 2, 10], [0, 2, 9], [0, 2, 6], [0, 2, 5], [0, 1, 8], [0, 1, 7], [0, 1, 6], [0, 1, 2], [12, 13], [11, 13], [11, 12], [10, 13], [10, 12], [9, 11], [9, 10], [8, 11], [8, 10], [8, 9], [7, 11], [7, 10], [7, 9], [7, 8], [6, 11], [6, 10], [6, 9], [6, 8], [6, 7], [5, 6], [4, 13], [4, 12], [4, 11], [4, 10], [4, 6], [4, 5], [3, 13], [3, 12], [3, 11], [3, 10], [3, 6], [3, 5], [3, 4], [2, 13], [2, 12], [2, 11], [2, 10], [2, 9], [2, 6], [2, 5], [2, 4], [2, 3], [1, 8], [1, 7], [1, 6], [1, 2], [0, 13], [0, 12], [0, 11], [0, 10], [0, 9], [0, 8], [0, 7], [0, 6], [0, 5], [0, 2], [0, 1]]\n",
      "[[2, 3, 4, 11, 12, 13], [2, 3, 4, 10, 12, 13], [0, 6, 7, 8, 9, 11], [0, 6, 7, 8, 9, 11], [0, 6, 7, 8, 9, 11], [0, 6, 7, 8, 9, 11], [0, 6, 7, 8, 9, 11], [2, 3, 4, 5, 6], [0, 1, 6, 7, 8]]\n"
     ]
    }
   ],
   "source": [
    "get_efficient_phases(\"GS_cluster_244996795_33401116_4471941369_60603339\")"
   ]
  },
  {
   "cell_type": "markdown",
   "metadata": {},
   "source": [
    "### Close SUMO / TRACI"
   ]
  },
  {
   "cell_type": "code",
   "execution_count": 8,
   "metadata": {},
   "outputs": [],
   "source": [
    "# end\n",
    "traci.close()"
   ]
  }
 ],
 "metadata": {
  "kernelspec": {
   "display_name": "Python 3.9.1 ('venv': venv)",
   "language": "python",
   "name": "python3"
  },
  "language_info": {
   "codemirror_mode": {
    "name": "ipython",
    "version": 3
   },
   "file_extension": ".py",
   "mimetype": "text/x-python",
   "name": "python",
   "nbconvert_exporter": "python",
   "pygments_lexer": "ipython3",
   "version": "3.9.1"
  },
  "orig_nbformat": 4,
  "vscode": {
   "interpreter": {
    "hash": "65f947fb59705a311e3c1f97457029d1274684b246f9bceffb57819fd2525a60"
   }
  }
 },
 "nbformat": 4,
 "nbformat_minor": 2
}
