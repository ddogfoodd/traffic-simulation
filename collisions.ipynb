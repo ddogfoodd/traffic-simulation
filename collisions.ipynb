{
 "cells": [
  {
   "cell_type": "markdown",
   "metadata": {},
   "source": [
    "### Import"
   ]
  },
  {
   "cell_type": "code",
   "execution_count": 3,
   "metadata": {},
   "outputs": [],
   "source": [
    "# import traci\n",
    "import os, sys\n",
    "#! default MacOS path of sumo tools\n",
    "sys.path.append(os.path.join(\"/usr\", \"local\", \"opt\", \"sumo\", \"share\", \"sumo\", \"tools\"))\n",
    "# choose GUI or non GUI version\n",
    "sumo_binary = \"/usr/local/Cellar/sumo/1.15.0/bin/sumo\"\n",
    "#sumo_gui_binary = \"/usr/local/Cellar/sumo/1.15.0/bin/sumo-gui\"\n",
    "#sumo_cmd = [sumo_binary, \"-n\", \"/Users/jost/Workspace/traffic-simulation/xml/scenario1/grid.net.xml\"]\n",
    "sumo_cmd = [sumo_binary, \"--start\", \"-c\", \"/Users/jost/Desktop/Magdeburgv2.sumocfg\"]\n",
    "import traci\n",
    "from bs4 import BeautifulSoup\n",
    "import numpy as np\n",
    "import itertools"
   ]
  },
  {
   "cell_type": "markdown",
   "metadata": {},
   "source": [
    "### Start SUMO / TRACI"
   ]
  },
  {
   "cell_type": "code",
   "execution_count": 4,
   "metadata": {},
   "outputs": [
    {
     "name": "stdout",
     "output_type": "stream",
     "text": [
      " Retrying in 1 seconds\n"
     ]
    },
    {
     "data": {
      "text/plain": [
       "(20, 'SUMO 1.15.0')"
      ]
     },
     "execution_count": 4,
     "metadata": {},
     "output_type": "execute_result"
    }
   ],
   "source": [
    "# start traci\n",
    "traci.start(sumo_cmd)"
   ]
  },
  {
   "cell_type": "markdown",
   "metadata": {},
   "source": [
    "### Problems with traci\n",
    "- `traci.lane.getFoes()` might use lane IDs twice for different connections\n",
    "    - eg. junction at the FIN in Magdeburg\n",
    "\n",
    "Solution: take net xml file, skip the ID matching and use foe matrix directly"
   ]
  },
  {
   "cell_type": "code",
   "execution_count": 5,
   "metadata": {},
   "outputs": [
    {
     "data": {
      "text/plain": [
       "'\\nfor tls in traci.trafficlight.getIDList():\\n    get_eff_phases(tls)\\n'"
      ]
     },
     "execution_count": 5,
     "metadata": {},
     "output_type": "execute_result"
    }
   ],
   "source": [
    "with open(\"/Users/jost/2022-10-20-17-02-51/osm.net.xml\", \"r\") as f:\n",
    "    net_data = f.read()\n",
    "net_xml = BeautifulSoup(net_data, \"xml\")\n",
    "\n",
    "\"\"\"\n",
    "for tls in traci.trafficlight.getIDList():\n",
    "    get_eff_phases(tls)\n",
    "\"\"\""
   ]
  },
  {
   "cell_type": "markdown",
   "metadata": {},
   "source": [
    "#### Method: `get_safe_phases(tls_id: str) -> total_safe_phases: list of lists`\n",
    "- **INPUT:** tls ID as string\n",
    "- **OUTPUT:** list of lists, where each inner lists contains connection indices that can share a green phase without colliding\n",
    "\n",
    "**Concept:**  \n",
    "Use the foe matrix of a nets xml file.  \n",
    "A foe of a connection is another connection that might collide with it if they share the same green phase.  \n",
    "  \n",
    "Pairs of two connections sharing the same green phase without colliding (further named safe_phases or safe phase combinations) can be directly infered through the given foe matrix in a net xml file.  \n",
    "Pairs of three, four, five and so on connections sharing the same green phase have to be computed based on the former safe phase combinations.  \n",
    "  \n",
    "The computation goes like:  \n",
    "1. List pair of 2 connections using foe matrix\n",
    "2. Intersect the safe connections of both connections in a pair of two to get the connections that are safe to combine with the pair\n",
    "3. Combine all the intersected connections with the pair and do that for each pair to get pairs of 3 connections\n",
    "4. For those pairs intersect the safe connections of all connections in the pair again to get further addable safe connections\n",
    "5. Repeat the intersection and adding to combination steps until the intersections are empty i.e. there are no further combinable safe connections"
   ]
  },
  {
   "cell_type": "code",
   "execution_count": 6,
   "metadata": {},
   "outputs": [],
   "source": [
    "# given a tls return all possible green combinations that are safe i.e. avoid collisions\n",
    "#* INPUT: tls ID as string\n",
    "#* OUTPUT: list of lists, where each inner lists means that given connection indices can share a green phase without colliding\n",
    "#! make sure that indices are not changed during any parsing step\n",
    "def get_safe_phases(tls_id: str):\n",
    "    # extract junction ID from TLS ID -> ignore \"GS_\" at the beginning\n",
    "    #! this might be net-specific\n",
    "    junction_id = tls_id[3:]\n",
    "    \n",
    "    # whole junction including lanes etc\n",
    "    junction_data = net_xml.find('junction', {'id': junction_id})\n",
    "    # just request data including foes, cont, index, response\n",
    "    request_data = junction_data.find_all('request')\n",
    "    # just foes\n",
    "    foes = [request.attrs['foes'] for request in request_data]\n",
    "    # foes as np array\n",
    "    foes = np.ma.array([list(map(int, foe)) for foe in foes], mask=False)\n",
    "    \n",
    "    # number of tls / tls controlled connections\n",
    "    n_tls = foes.shape[0]\n",
    "    \n",
    "    #! flip foes to be more intuitive, without flipping columns would be reversed i.e. last value in each row would correspond to index 0\n",
    "    foes = np.fliplr(foes)\n",
    "    \n",
    "    # mask values corresponding to whether a connection has itself as foe or not\n",
    "    # we want to ignore those for further computations\n",
    "    for i in range(n_tls):\n",
    "        foes.mask[i][i] = True\n",
    "    \n",
    "    # non-foes as a non sparse non binary list of foe indices\n",
    "    # practically list of connection indices that don't collide i.e. that can share a green phase\n",
    "    non_foes_ind = [np.where(foes[i] == 0)[0] for i in range(n_tls)]\n",
    "    \n",
    "    # placeholder to collect all safe_phases (safe phase combinations) during computation\n",
    "    total_safe_phases = []\n",
    "    \n",
    "    # for each tls / tls controlled connection list all others that are no foes of each other\n",
    "    # this combines all safe connection combinations which are directly readable from the foe matrix and which don't need further computation\n",
    "    safe_phases = []\n",
    "    for i in range(n_tls):\n",
    "        # pairs of 2: extract from foes\n",
    "        for i2 in non_foes_ind[i]:\n",
    "            #* condition to not take duplicates e.g. [0, 1] and [1, 0]\n",
    "            if i2 > i:\n",
    "                safe_phases.append([i, i2])\n",
    "            else:\n",
    "                continue\n",
    "    \n",
    "    # add safe phases to collection\n",
    "    total_safe_phases += safe_phases\n",
    "    \n",
    "    # placeholder for computation of next level non-foes\n",
    "    curr_non_foes = []\n",
    "    \n",
    "    # for each safe_phase that was combined in the first step -> get the safe connections of the given safe_phase and intersect those safe connections with the possible safe connections of an connection added to the safe phase\n",
    "    # the resulting safe phases contain more connections that can go green in parallel but also leads to less further possibilities to add to that combination\n",
    "    for safe_phase in safe_phases:\n",
    "        # start with first connection of a safe phase\n",
    "        wip_non_foes = non_foes_ind[safe_phase[0]]\n",
    "        # for each other connection of a safe phase get the step-wise intersection\n",
    "        for connection in safe_phase[1:]:\n",
    "            wip_non_foes = np.intersect1d(wip_non_foes, non_foes_ind[connection])\n",
    "        curr_non_foes.append(wip_non_foes)\n",
    "        \n",
    "    # check if non foes exist\n",
    "    # this is used as end condition for the loop\n",
    "    non_foes_exist = False\n",
    "    for non_foe in curr_non_foes:\n",
    "        if non_foe.any():\n",
    "            non_foes_exist = True\n",
    "            break\n",
    "    \n",
    "    # iteratively look for safe_phases and further non_foes\n",
    "    # stop when there are no further connection combinations having no_foe options to add\n",
    "    while non_foes_exist: \n",
    "        # get new safe_phases\n",
    "        #! duplicates allowed, filter befor appending\n",
    "        dupl_safe_phases = []\n",
    "        for i in range(len(safe_phases)):\n",
    "            for connection in curr_non_foes[i]:\n",
    "                dupl_safe_phases.append(safe_phases[i].copy() + [connection])\n",
    "        # filter duplicates\n",
    "        for safe_phase in dupl_safe_phases:\n",
    "            safe_phase.sort()\n",
    "        dupl_safe_phases.sort()\n",
    "        # these are the newly computed safe phase combinations\n",
    "        new_safe_phases = list(k for k,_ in itertools.groupby(dupl_safe_phases))\n",
    "    \n",
    "        # get new indices of non_foes for the newly computed safe phase combinations\n",
    "        # so to speak: for each safe combinations a list of connection indices that could further be added to a given combination\n",
    "        new_non_foes = []\n",
    "        for i in range(len(new_safe_phases)):\n",
    "            wip_non_foes = non_foes_ind[new_safe_phases[i][0]]\n",
    "            for connection in new_safe_phases[i][1:]:\n",
    "                wip_non_foes = np.intersect1d(wip_non_foes, non_foes_ind[connection])\n",
    "            new_non_foes.append(wip_non_foes)\n",
    "        \n",
    "        # add safe phases to collection\n",
    "        total_safe_phases += new_safe_phases\n",
    "        \n",
    "        # overwrite old values for next iteration\n",
    "        curr_non_foes = new_non_foes.copy()\n",
    "        # check if further non foes exist and set ending condition accordingly\n",
    "        non_foes_exist = False\n",
    "        for non_foe in curr_non_foes:\n",
    "            if non_foe.any():\n",
    "                non_foes_exist = True\n",
    "                break\n",
    "                \n",
    "        safe_phases = new_safe_phases.copy()\n",
    "    \n",
    "    # return collection of all connection combinations that can share a green phase and would not lead to collisions\n",
    "    # list of lists where each inner list contains indices of connections\n",
    "    return total_safe_phases"
   ]
  },
  {
   "cell_type": "code",
   "execution_count": 7,
   "metadata": {},
   "outputs": [
    {
     "name": "stdout",
     "output_type": "stream",
     "text": [
      "[[0, 1], [0, 2], [0, 5], [0, 6], [0, 7], [0, 8], [0, 9], [0, 10], [0, 11], [0, 12], [0, 13], [1, 2], [1, 6], [1, 7], [1, 8], [2, 3], [2, 4], [2, 5], [2, 6], [2, 9], [2, 10], [2, 11], [2, 12], [2, 13], [3, 4], [3, 5], [3, 6], [3, 10], [3, 11], [3, 12], [3, 13], [4, 5], [4, 6], [4, 10], [4, 11], [4, 12], [4, 13], [5, 6], [6, 7], [6, 8], [6, 9], [6, 10], [6, 11], [7, 8], [7, 9], [7, 10], [7, 11], [8, 9], [8, 10], [8, 11], [9, 10], [9, 11], [10, 12], [10, 13], [11, 12], [11, 13], [12, 13], [0, 1, 2], [0, 1, 6], [0, 1, 7], [0, 1, 8], [0, 2, 5], [0, 2, 6], [0, 2, 9], [0, 2, 10], [0, 2, 11], [0, 2, 12], [0, 2, 13], [0, 5, 6], [0, 6, 7], [0, 6, 8], [0, 6, 9], [0, 6, 10], [0, 6, 11], [0, 7, 8], [0, 7, 9], [0, 7, 10], [0, 7, 11], [0, 8, 9], [0, 8, 10], [0, 8, 11], [0, 9, 10], [0, 9, 11], [0, 10, 12], [0, 10, 13], [0, 11, 12], [0, 11, 13], [0, 12, 13], [1, 2, 6], [1, 6, 7], [1, 6, 8], [1, 7, 8], [2, 3, 4], [2, 3, 5], [2, 3, 6], [2, 3, 10], [2, 3, 11], [2, 3, 12], [2, 3, 13], [2, 4, 5], [2, 4, 6], [2, 4, 10], [2, 4, 11], [2, 4, 12], [2, 4, 13], [2, 5, 6], [2, 6, 9], [2, 6, 10], [2, 6, 11], [2, 9, 10], [2, 9, 11], [2, 10, 12], [2, 10, 13], [2, 11, 12], [2, 11, 13], [2, 12, 13], [3, 4, 5], [3, 4, 6], [3, 4, 10], [3, 4, 11], [3, 4, 12], [3, 4, 13], [3, 5, 6], [3, 6, 10], [3, 6, 11], [3, 10, 12], [3, 10, 13], [3, 11, 12], [3, 11, 13], [3, 12, 13], [4, 5, 6], [4, 6, 10], [4, 6, 11], [4, 10, 12], [4, 10, 13], [4, 11, 12], [4, 11, 13], [4, 12, 13], [6, 7, 8], [6, 7, 9], [6, 7, 10], [6, 7, 11], [6, 8, 9], [6, 8, 10], [6, 8, 11], [6, 9, 10], [6, 9, 11], [7, 8, 9], [7, 8, 10], [7, 8, 11], [7, 9, 10], [7, 9, 11], [8, 9, 10], [8, 9, 11], [10, 12, 13], [11, 12, 13], [0, 1, 2, 6], [0, 1, 6, 7], [0, 1, 6, 8], [0, 1, 7, 8], [0, 2, 5, 6], [0, 2, 6, 9], [0, 2, 6, 10], [0, 2, 6, 11], [0, 2, 9, 10], [0, 2, 9, 11], [0, 2, 10, 12], [0, 2, 10, 13], [0, 2, 11, 12], [0, 2, 11, 13], [0, 2, 12, 13], [0, 6, 7, 8], [0, 6, 7, 9], [0, 6, 7, 10], [0, 6, 7, 11], [0, 6, 8, 9], [0, 6, 8, 10], [0, 6, 8, 11], [0, 6, 9, 10], [0, 6, 9, 11], [0, 7, 8, 9], [0, 7, 8, 10], [0, 7, 8, 11], [0, 7, 9, 10], [0, 7, 9, 11], [0, 8, 9, 10], [0, 8, 9, 11], [0, 10, 12, 13], [0, 11, 12, 13], [1, 6, 7, 8], [2, 3, 4, 5], [2, 3, 4, 6], [2, 3, 4, 10], [2, 3, 4, 11], [2, 3, 4, 12], [2, 3, 4, 13], [2, 3, 5, 6], [2, 3, 6, 10], [2, 3, 6, 11], [2, 3, 10, 12], [2, 3, 10, 13], [2, 3, 11, 12], [2, 3, 11, 13], [2, 3, 12, 13], [2, 4, 5, 6], [2, 4, 6, 10], [2, 4, 6, 11], [2, 4, 10, 12], [2, 4, 10, 13], [2, 4, 11, 12], [2, 4, 11, 13], [2, 4, 12, 13], [2, 6, 9, 10], [2, 6, 9, 11], [2, 10, 12, 13], [2, 11, 12, 13], [3, 4, 5, 6], [3, 4, 6, 10], [3, 4, 6, 11], [3, 4, 10, 12], [3, 4, 10, 13], [3, 4, 11, 12], [3, 4, 11, 13], [3, 4, 12, 13], [3, 10, 12, 13], [3, 11, 12, 13], [4, 10, 12, 13], [4, 11, 12, 13], [6, 7, 8, 9], [6, 7, 8, 10], [6, 7, 8, 11], [6, 7, 9, 10], [6, 7, 9, 11], [6, 8, 9, 10], [6, 8, 9, 11], [7, 8, 9, 10], [7, 8, 9, 11], [0, 1, 6, 7, 8], [0, 2, 6, 9, 10], [0, 2, 6, 9, 11], [0, 2, 10, 12, 13], [0, 2, 11, 12, 13], [0, 6, 7, 8, 9], [0, 6, 7, 8, 10], [0, 6, 7, 8, 11], [0, 6, 7, 9, 10], [0, 6, 7, 9, 11], [0, 6, 8, 9, 10], [0, 6, 8, 9, 11], [0, 7, 8, 9, 10], [0, 7, 8, 9, 11], [2, 3, 4, 5, 6], [2, 3, 4, 6, 10], [2, 3, 4, 6, 11], [2, 3, 4, 10, 12], [2, 3, 4, 10, 13], [2, 3, 4, 11, 12], [2, 3, 4, 11, 13], [2, 3, 4, 12, 13], [2, 3, 10, 12, 13], [2, 3, 11, 12, 13], [2, 4, 10, 12, 13], [2, 4, 11, 12, 13], [3, 4, 10, 12, 13], [3, 4, 11, 12, 13], [6, 7, 8, 9, 10], [6, 7, 8, 9, 11], [0, 6, 7, 8, 9, 10], [0, 6, 7, 8, 9, 11], [2, 3, 4, 10, 12, 13], [2, 3, 4, 11, 12, 13]]\n"
     ]
    }
   ],
   "source": [
    "all_safe_phases = get_safe_phases(\"GS_cluster_244996795_33401116_4471941369_60603339\")\n",
    "\n",
    "print(all_safe_phases)"
   ]
  },
  {
   "cell_type": "markdown",
   "metadata": {},
   "source": [
    "### Close SUMO / TRACI"
   ]
  },
  {
   "cell_type": "code",
   "execution_count": 8,
   "metadata": {},
   "outputs": [],
   "source": [
    "# end\n",
    "traci.close()"
   ]
  }
 ],
 "metadata": {
  "kernelspec": {
   "display_name": "Python 3.8.3 64-bit",
   "language": "python",
   "name": "python3"
  },
  "language_info": {
   "codemirror_mode": {
    "name": "ipython",
    "version": 3
   },
   "file_extension": ".py",
   "mimetype": "text/x-python",
   "name": "python",
   "nbconvert_exporter": "python",
   "pygments_lexer": "ipython3",
   "version": "3.8.3"
  },
  "orig_nbformat": 4,
  "vscode": {
   "interpreter": {
    "hash": "0adcc2737ebf6a4a119f135174df96668767fca1ef1112612db5ecadf2b6d608"
   }
  }
 },
 "nbformat": 4,
 "nbformat_minor": 2
}
